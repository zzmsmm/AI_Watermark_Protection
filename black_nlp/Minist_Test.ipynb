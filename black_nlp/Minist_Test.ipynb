{
 "cells": [
  {
   "cell_type": "code",
   "execution_count": 19,
   "id": "7ab30528",
   "metadata": {},
   "outputs": [],
   "source": [
    "import torch\n",
    "import torch.nn as nn\n",
    "class simpleNet(nn.Module):\n",
    "    def __init__(self,in_dim,n_hidden1,n_hidden2,out_dim):\n",
    "        super(simpleNet,self).__init__()\n",
    "        self.layer1=nn.Linear(in_dim,n_hidden1)\n",
    "        self.layer2=nn.Linear(n_hidden1,n_hidden2)\n",
    "        self.layer3=nn.Linear(n_hidden2,out_dim)\n",
    "    def forward(self,x):\n",
    "        x=self.layer1(x)\n",
    "        x=self.layer2(x)\n",
    "        x=self.layer3(x)\n",
    "        return x"
   ]
  },
  {
   "cell_type": "code",
   "execution_count": 20,
   "id": "fd6b7bf1",
   "metadata": {},
   "outputs": [],
   "source": [
    "class Activation_Net(nn.Module):\n",
    "    def __init__(self,in_dim,n_hidden1,n_hidden2,out_dim):\n",
    "        super(NeuralNetwork,self).__init__()\n",
    "        self.layer1=nn.Sequential(nn.Linear(in_dim,n_hidden1),nn.ReLU(True))\n",
    "        self.layer2=nn.Sequential(nn.Linear(n_hidden1,n_hidden2),nn.ReLU(True))\n",
    "        self.layer3=nn.Sequential(nn.Linear(n_hidden2,out_dim))\n",
    "    def forward(self,x):\n",
    "        x=self.layer1(x)\n",
    "        x=self.layer2(x)\n",
    "        x=self.layer3(x)\n",
    "        return x"
   ]
  },
  {
   "cell_type": "code",
   "execution_count": 21,
   "id": "758e72e2",
   "metadata": {},
   "outputs": [],
   "source": [
    "class Batch_Net(nn.Module):\n",
    "    def __init__(self,in_dim,n_hidden1,n_hidden2,out_dim):\n",
    "        super(Batch_Net,self).__init__()\n",
    "        self.layer1=nn.Sequential(nn.Linear(in_dim,n_hidden1),nn.BatchNormld(n_hidden1),nn.ReLU(True))\n",
    "        self.layer2=nn.Sequential(nn.Linear(n_hidden1,n_hidden2),nn.BatchNormld(n_hidden2),nn.ReLU(True))\n",
    "        self.layer3=nn.Sequential(nn.Linear(n_hidden2,out_dim))\n",
    "    def forward(self,x):\n",
    "        x=self.layer1(x)\n",
    "        x=self.layer2(x)\n",
    "        x=self.layer3(x)\n",
    "        return x"
   ]
  },
  {
   "cell_type": "code",
   "execution_count": 22,
   "id": "1dfe8b16",
   "metadata": {},
   "outputs": [],
   "source": [
    "#train\n",
    "from torch import nn,optim\n",
    "from torch.autograd import Variable\n",
    "from torch.utils.data import DataLoader\n",
    "from torchvision import datasets,transforms\n",
    "\n",
    "batch_size=64\n",
    "lr=1e-2\n",
    "num_epoches=20\n",
    "\n",
    "data_tf=transforms.Compose([transforms.ToTensor(),transforms.Normalize([0.5],[0.5])])\n",
    "\n",
    "train_dataset=datasets.MNIST(root='./data',train=True,transform=data_tf,download=True)\n",
    "test_dataset=datasets.MNIST(root='./data',train=False,transform=data_tf)\n",
    "train_loade=DataLoader(train_dataset,batch_size=batch_size,shuffle=True)\n",
    "test_loade=DataLoader(test_dataset,batch_size=batch_size,shuffle=False)\n",
    "model=simpleNet(28*28,300,100,10)\n",
    "if torch.cuda.is_available():\n",
    "    model=model.cuda()\n",
    "    \n",
    "criterion=nn.CrossEntropyLoss()\n",
    "optimizer=optim.SGD(model.parameters(),lr=lr)\n",
    "\n"
   ]
  },
  {
   "cell_type": "code",
   "execution_count": 25,
   "id": "8031b314",
   "metadata": {},
   "outputs": [
    {
     "name": "stdout",
     "output_type": "stream",
     "text": [
      "epoch: 50, loss: 1.991\n",
      "epoch: 100, loss: 1.567\n",
      "epoch: 150, loss: 1.158\n",
      "epoch: 200, loss: 0.9498\n",
      "epoch: 250, loss: 0.712\n",
      "epoch: 300, loss: 0.6304\n",
      "epoch: 350, loss: 0.6677\n",
      "epoch: 400, loss: 0.8098\n",
      "epoch: 450, loss: 0.62\n",
      "epoch: 500, loss: 0.6052\n",
      "epoch: 550, loss: 0.4616\n",
      "epoch: 600, loss: 0.6785\n",
      "epoch: 650, loss: 0.3786\n",
      "epoch: 700, loss: 0.3607\n",
      "epoch: 750, loss: 0.7172\n",
      "epoch: 800, loss: 0.5133\n",
      "epoch: 850, loss: 0.4969\n",
      "epoch: 900, loss: 0.5016\n"
     ]
    }
   ],
   "source": [
    "# 训练模型\n",
    "epoch = 0\n",
    "\n",
    "# 选取所有训练数据集进行训练\n",
    "\n",
    "for data in train_loade:\n",
    "    # 获得img(手写图片)，label标签（手写图片对应数字）\n",
    "    img, label = data\n",
    "    img = img.view(img.size(0), -1)\n",
    "    if torch.cuda.is_available():\n",
    "        img = img.cuda()\n",
    "        label = label.cuda()\n",
    "    else:\n",
    "        # 将数据转换成tensor类型\n",
    "        img = Variable(img)\n",
    "        label = Variable(label)\n",
    "    \n",
    "    #  向前传播，获得out结果和损失函数\n",
    "    out = model(img)\n",
    "    loss = criterion(out, label)\n",
    "    print_loss = loss.data.item()\n",
    " \n",
    "    # 反向传播，更新参数\n",
    "    optimizer.zero_grad()\n",
    "    loss.backward()\n",
    "    optimizer.step()\n",
    "    epoch+=1\n",
    "    if epoch%50 == 0:\n",
    "        print('epoch: {}, loss: {:.4}'.format(epoch, loss.data.item()))\n"
   ]
  },
  {
   "cell_type": "code",
   "execution_count": 28,
   "id": "434a01ea",
   "metadata": {},
   "outputs": [
    {
     "name": "stdout",
     "output_type": "stream",
     "text": [
      "Test loss:0.379145,Acc:0.893500\n"
     ]
    }
   ],
   "source": [
    "model.eval()\n",
    "eval_loss=0\n",
    "eval_acc=0\n",
    "for data in test_loade:\n",
    "    img,label=data\n",
    "    img=img.view(img.size(0),-1)\n",
    "    if torch.cuda.is_available():\n",
    "        img=Variable(img).cuda()\n",
    "        label=Variable(label).cuda()\n",
    "    else:\n",
    "        img=Variable(img)\n",
    "        label=Variable(label)\n",
    "    out=model(img)\n",
    "    loss=criterion(out,label)\n",
    "    eval_loss+=loss.data.item()*label.size(0)#item是为了减少内存消耗\n",
    "    _,pred=torch.max(out,1)\n",
    "    num_correct=(pred==label).sum()\n",
    "    eval_acc+=num_correct.item()\n",
    "print('Test loss:{:.6f},Acc:{:.6f}'.format(\n",
    "    eval_loss/(len(test_dataset)),\n",
    "    eval_acc/(len(test_dataset))\n",
    "    ))"
   ]
  },
  {
   "cell_type": "code",
   "execution_count": null,
   "id": "54310eac",
   "metadata": {},
   "outputs": [],
   "source": []
  }
 ],
 "metadata": {
  "kernelspec": {
   "display_name": "Python [conda env:torch]",
   "language": "python",
   "name": "conda-env-torch-py"
  },
  "language_info": {
   "codemirror_mode": {
    "name": "ipython",
    "version": 3
   },
   "file_extension": ".py",
   "mimetype": "text/x-python",
   "name": "python",
   "nbconvert_exporter": "python",
   "pygments_lexer": "ipython3",
   "version": "3.7.12"
  }
 },
 "nbformat": 4,
 "nbformat_minor": 5
}
