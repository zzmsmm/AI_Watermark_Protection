{
 "cells": [
  {
   "cell_type": "code",
   "execution_count": 1,
   "metadata": {},
   "outputs": [],
   "source": [
    "import matplotlib.pyplot as plt\n",
    "\n",
    "import torch\n",
    "from torch import nn\n",
    "import torch.optim as optim\n",
    "import torch.utils.data as Data \n",
    "import torchvision\n",
    "from torchvision import transforms\n",
    "from torchvision.datasets import CIFAR10\n",
    "\n",
    "import time\n",
    "import random\n",
    "import qrcode\n",
    "from PIL import Image\n",
    "import numpy as np"
   ]
  },
  {
   "cell_type": "code",
   "execution_count": 2,
   "metadata": {},
   "outputs": [],
   "source": [
    "device = torch.device(\"cuda:3\")"
   ]
  },
  {
   "cell_type": "code",
   "execution_count": 3,
   "metadata": {},
   "outputs": [
    {
     "name": "stdout",
     "output_type": "stream",
     "text": [
      "Files already downloaded and verified\n",
      "Files already downloaded and verified\n"
     ]
    }
   ],
   "source": [
    "trainset = CIFAR10(\n",
    "    root=\"./data/CIFAR10\",\n",
    "    train=True,\n",
    "    download=True,\n",
    "    transform=transforms.Compose([\n",
    "        transforms.ToTensor(),\n",
    "        transforms.Normalize((0.485, 0.456, 0.406),(0.229, 0.224, 0.225))\n",
    "    ])\n",
    ")\n",
    "\n",
    "testset = CIFAR10(\n",
    "    root=\"./data/CIFAR10\",\n",
    "    train=False,\n",
    "    download=True,\n",
    "    transform=transforms.Compose([\n",
    "        transforms.ToTensor(),\n",
    "        transforms.Normalize((0.485, 0.456, 0.406),(0.229, 0.224, 0.225))\n",
    "    ])\n",
    ")\n",
    "\n",
    "classes = ('plane', 'car', 'bird', 'cat', 'deer', 'dog', 'frog', 'horse', 'ship', 'truck')"
   ]
  },
  {
   "cell_type": "code",
   "execution_count": 4,
   "metadata": {},
   "outputs": [],
   "source": [
    "trainloader = torch.utils.data.DataLoader(\n",
    "    dataset=trainset,\n",
    "    batch_size=256,\n",
    "    shuffle=True,\n",
    ")\n",
    "\n",
    "testloader = torch.utils.data.DataLoader(\n",
    "    dataset=testset,\n",
    "    batch_size=256,\n",
    "    shuffle=False\n",
    ")"
   ]
  },
  {
   "cell_type": "code",
   "execution_count": 5,
   "metadata": {},
   "outputs": [],
   "source": [
    "class EnDecoder(nn.Module):\n",
    "    def __init__(self):\n",
    "        super().__init__()\n",
    "        self.Encoder = nn.Sequential(\n",
    "            nn.Conv2d(3, 32, kernel_size=3, padding=1, stride=2), # 32x32 => 16x16\n",
    "            nn.GELU(),\n",
    "            nn.Conv2d(32, 32, kernel_size=3, padding=1),\n",
    "            nn.GELU(),\n",
    "            nn.Conv2d(32, 2*32, kernel_size=3, padding=1, stride=2), # 16x16 => 8x8\n",
    "            nn.GELU(),\n",
    "            nn.Conv2d(2*32, 2*32, kernel_size=3, padding=1),\n",
    "            nn.GELU(),\n",
    "            nn.Conv2d(2*32, 2*32, kernel_size=3, padding=1, stride=2), # 8x8 => 4x4\n",
    "            nn.GELU(),\n",
    "            nn.Flatten(), # Image grid to single feature vector\n",
    "            nn.Linear(2*16*32, 384) # 特征向量压缩到384维\n",
    "        )\n",
    "        \n",
    "        self.linear = nn.Sequential(\n",
    "            nn.Linear(384, 2*16*32),\n",
    "            nn.GELU()\n",
    "        )\n",
    "\n",
    "        self.Decoder = nn.Sequential(\n",
    "            nn.ConvTranspose2d(2*32, 2*32, kernel_size=3, output_padding=1, padding=1, stride=2), # 4x4 => 8x8\n",
    "            nn.GELU(),\n",
    "            nn.Conv2d(2*32, 2*32, kernel_size=3, padding=1),\n",
    "            nn.GELU(),\n",
    "            nn.ConvTranspose2d(2*32, 32, kernel_size=3, output_padding=1, padding=1, stride=2), # 8x8 => 16x16\n",
    "            nn.GELU(),\n",
    "            nn.Conv2d(32, 32, kernel_size=3, padding=1),\n",
    "            nn.GELU(),\n",
    "            nn.ConvTranspose2d(32, 3, kernel_size=3, output_padding=1, padding=1, stride=2), # 16x16 => 32x32\n",
    "            nn.Tanh() # The input images is scaled between -1 and 1, hence the output has to be bounded as well\n",
    "        )\n",
    "\n",
    "    def forward(self, x):\n",
    "        x = self.Encoder(x)\n",
    "        x = self.linear(x)\n",
    "        x = x.reshape(x.shape[0], -1, 4, 4)\n",
    "        x = self.Decoder(x)\n",
    "        return x"
   ]
  },
  {
   "cell_type": "code",
   "execution_count": 6,
   "metadata": {},
   "outputs": [
    {
     "data": {
      "text/plain": [
       "EnDecoder(\n",
       "  (Encoder): Sequential(\n",
       "    (0): Conv2d(3, 32, kernel_size=(3, 3), stride=(2, 2), padding=(1, 1))\n",
       "    (1): GELU()\n",
       "    (2): Conv2d(32, 32, kernel_size=(3, 3), stride=(1, 1), padding=(1, 1))\n",
       "    (3): GELU()\n",
       "    (4): Conv2d(32, 64, kernel_size=(3, 3), stride=(2, 2), padding=(1, 1))\n",
       "    (5): GELU()\n",
       "    (6): Conv2d(64, 64, kernel_size=(3, 3), stride=(1, 1), padding=(1, 1))\n",
       "    (7): GELU()\n",
       "    (8): Conv2d(64, 64, kernel_size=(3, 3), stride=(2, 2), padding=(1, 1))\n",
       "    (9): GELU()\n",
       "    (10): Flatten(start_dim=1, end_dim=-1)\n",
       "    (11): Linear(in_features=1024, out_features=384, bias=True)\n",
       "  )\n",
       "  (linear): Sequential(\n",
       "    (0): Linear(in_features=384, out_features=1024, bias=True)\n",
       "    (1): GELU()\n",
       "  )\n",
       "  (Decoder): Sequential(\n",
       "    (0): ConvTranspose2d(64, 64, kernel_size=(3, 3), stride=(2, 2), padding=(1, 1), output_padding=(1, 1))\n",
       "    (1): GELU()\n",
       "    (2): Conv2d(64, 64, kernel_size=(3, 3), stride=(1, 1), padding=(1, 1))\n",
       "    (3): GELU()\n",
       "    (4): ConvTranspose2d(64, 32, kernel_size=(3, 3), stride=(2, 2), padding=(1, 1), output_padding=(1, 1))\n",
       "    (5): GELU()\n",
       "    (6): Conv2d(32, 32, kernel_size=(3, 3), stride=(1, 1), padding=(1, 1))\n",
       "    (7): GELU()\n",
       "    (8): ConvTranspose2d(32, 3, kernel_size=(3, 3), stride=(2, 2), padding=(1, 1), output_padding=(1, 1))\n",
       "    (9): Tanh()\n",
       "  )\n",
       ")"
      ]
     },
     "execution_count": 6,
     "metadata": {},
     "output_type": "execute_result"
    }
   ],
   "source": [
    "AE1 = torch.load(\"AEmodels/AE1.pt\", map_location=device)\n",
    "AE2 = torch.load(\"AEmodels/AE2.pt\", map_location=device)\n",
    "AE3 = torch.load(\"AEmodels/AE3.pt\", map_location=device)\n",
    "AE4 = torch.load(\"AEmodels/AE4.pt\", map_location=device)\n",
    "AE5 = torch.load(\"AEmodels/AE5.pt\", map_location=device)\n",
    "\n",
    "# 攻击者 AE = AE3\n",
    "AE = AE3\n",
    "for param in AE.parameters():\n",
    "    param.requires_grad_(False)\n",
    "AE.eval()"
   ]
  },
  {
   "cell_type": "code",
   "execution_count": 7,
   "metadata": {},
   "outputs": [],
   "source": [
    "def QR_gen(key):\n",
    "    qr = qrcode.QRCode(\n",
    "        version=1,\n",
    "        error_correction=qrcode.constants.ERROR_CORRECT_Q,\n",
    "        box_size=2,\n",
    "        border=0,\n",
    "    )\n",
    "    qr.add_data(str(key))\n",
    "    img = qr.make_image()\n",
    "    img.save(\"./self/qrcode.png\")\n",
    "\n",
    "    Img = Image.open(\"./self/qrcode.png\").convert('RGB')\n",
    "    return Img\n",
    "\n",
    "qr_transform = transforms.Compose([\n",
    "    transforms.ToTensor(),\n",
    "    transforms.Resize(32)\n",
    "])"
   ]
  },
  {
   "cell_type": "code",
   "execution_count": 8,
   "metadata": {},
   "outputs": [],
   "source": [
    "# 生成个人信息：以key生成二维码\n",
    "key = random.getrandbits(256)\n",
    "qr_img = QR_gen(key)\n",
    "qr_img = qr_transform(qr_img).to(torch.float)"
   ]
  },
  {
   "cell_type": "code",
   "execution_count": 9,
   "metadata": {},
   "outputs": [],
   "source": [
    "w1 = torch.rand(3072)\n",
    "w1 = w1.reshape(-1, 3, 32, 32) #与AE输入输出一致\n",
    "w1 = w1.to(device)\n",
    "w1.requires_grad_(True)\n",
    "\n",
    "sig = qr_img.reshape(-1, 3, 32, 32) #所谓签名\n",
    "sig = sig.to(device)\n",
    "\n",
    "loss_function = nn.MSELoss()\n",
    "optimizer = torch.optim.Adam([w1], lr=0.001)\n",
    "\n",
    "p_num = 50 #carrier数\n",
    "iter_num = 3000 #迭代轮数"
   ]
  },
  {
   "cell_type": "code",
   "execution_count": 10,
   "metadata": {},
   "outputs": [
    {
     "name": "stdout",
     "output_type": "stream",
     "text": [
      "iter: 0 loss: 2.738142\n",
      "Elapsed time = 0.945830\n",
      "iter: 100 loss: 2.537069\n",
      "Elapsed time = 0.628477\n",
      "iter: 200 loss: 2.413009\n",
      "Elapsed time = 0.572557\n",
      "iter: 300 loss: 2.333030\n",
      "Elapsed time = 0.517924\n",
      "iter: 400 loss: 2.279571\n",
      "Elapsed time = 0.521324\n",
      "iter: 500 loss: 2.242855\n",
      "Elapsed time = 0.527726\n",
      "iter: 600 loss: 2.217162\n",
      "Elapsed time = 0.535259\n",
      "iter: 700 loss: 2.198976\n",
      "Elapsed time = 0.552143\n",
      "iter: 800 loss: 2.186035\n",
      "Elapsed time = 0.527385\n",
      "iter: 900 loss: 2.176830\n",
      "Elapsed time = 0.520073\n",
      "iter: 1000 loss: 2.170313\n",
      "Elapsed time = 0.572909\n",
      "iter: 1100 loss: 2.165739\n",
      "Elapsed time = 0.526612\n",
      "iter: 1200 loss: 2.162565\n",
      "Elapsed time = 0.547546\n",
      "iter: 1300 loss: 2.160390\n",
      "Elapsed time = 0.547503\n",
      "iter: 1400 loss: 2.158921\n",
      "Elapsed time = 0.576926\n",
      "iter: 1500 loss: 2.157939\n",
      "Elapsed time = 0.595441\n",
      "iter: 1600 loss: 2.157293\n",
      "Elapsed time = 0.583155\n",
      "iter: 1700 loss: 2.156873\n",
      "Elapsed time = 0.531781\n",
      "iter: 1800 loss: 2.156603\n",
      "Elapsed time = 0.646948\n",
      "iter: 1900 loss: 2.156431\n",
      "Elapsed time = 0.652254\n",
      "iter: 2000 loss: 2.156325\n",
      "Elapsed time = 0.641305\n",
      "iter: 2100 loss: 2.156257\n",
      "Elapsed time = 0.641580\n",
      "iter: 2200 loss: 2.156214\n",
      "Elapsed time = 0.644546\n",
      "iter: 2300 loss: 2.156185\n",
      "Elapsed time = 0.640479\n",
      "iter: 2400 loss: 2.156163\n",
      "Elapsed time = 0.640206\n",
      "iter: 2500 loss: 2.156145\n",
      "Elapsed time = 0.640064\n",
      "iter: 2600 loss: 2.156130\n",
      "Elapsed time = 0.644571\n",
      "iter: 2700 loss: 2.156115\n",
      "Elapsed time = 0.640023\n",
      "iter: 2800 loss: 2.156103\n",
      "Elapsed time = 0.643566\n",
      "iter: 2900 loss: 2.156092\n",
      "Elapsed time = 0.642536\n"
     ]
    }
   ],
   "source": [
    "for ii in range(iter_num):\n",
    "    loss = 0\n",
    "    start = time.process_time()\n",
    "    \n",
    "    for i in range(p_num):\n",
    "        image = trainset[i][0].to(device) + w1\n",
    "        image = image.reshape(-1, 3, 32, 32)\n",
    "        op1 = AE1(image)\n",
    "        op2 = AE2(image)\n",
    "        #op3 = AE3(image)\n",
    "        op4 = AE4(image)\n",
    "        op5 = AE5(image)   \n",
    "        \n",
    "        loss = loss + loss_function(w1, op1)\n",
    "        loss = loss + loss_function(w1, op2)\n",
    "        loss = loss + loss_function(w1, op4)\n",
    "        loss = loss + loss_function(w1, op5)\n",
    "\n",
    "    optimizer.zero_grad()\n",
    "    loss = loss + 0.02*torch.sum((w1-sig)**2)\n",
    "    loss.backward()\n",
    "    optimizer.step()\n",
    "    \n",
    "    if (ii%100)==0:\n",
    "        print(\"iter: %i loss: %f\" %(ii,loss/p_num))\n",
    "        print(\"Elapsed time = %f\" %(time.process_time()-start))\n",
    "        start = time.process_time()"
   ]
  },
  {
   "cell_type": "code",
   "execution_count": 11,
   "metadata": {},
   "outputs": [],
   "source": [
    "def show_imgs(imgs):\n",
    "    grid = torchvision.utils.make_grid(imgs, nrow=4, normalize=True, range=(-1,1))\n",
    "    grid = grid.permute(1, 2, 0)\n",
    "    plt.figure(figsize=(7,4.5))\n",
    "    plt.imshow(grid)\n",
    "    plt.axis('off')\n",
    "    plt.show()\n",
    "\n",
    "def save_img(image, filename):\n",
    "    img = image.reshape(3,32,32)\n",
    "    img = img.detach().numpy()\n",
    "    img = (img-np.min(img))/(np.max(img)-np.min(img))    #防止数值越界\n",
    "    img = img.transpose((1,2,0))\n",
    "    Image.fromarray(np.uint8(img*255)).convert('RGB').save(filename)"
   ]
  },
  {
   "cell_type": "code",
   "execution_count": 12,
   "metadata": {},
   "outputs": [
    {
     "name": "stderr",
     "output_type": "stream",
     "text": [
      "/home/zhuomengzhang/.conda/envs/torch/lib/python3.7/site-packages/torchvision/utils.py:50: UserWarning: range will be deprecated, please use value_range instead.\n",
      "  warnings.warn(warning)\n"
     ]
    },
    {
     "data": {
      "image/png": "[encoded data removed]",
      "text/plain": [
       "<Figure size 504x324 with 1 Axes>"
      ]
     },
     "metadata": {
      "needs_background": "light"
     },
     "output_type": "display_data"
    }
   ],
   "source": [
    "show_imgs(w1.cpu())\n",
    "save_img(w1.cpu(), \"w1.png\")"
   ]
  },
  {
   "cell_type": "code",
   "execution_count": 16,
   "metadata": {},
   "outputs": [],
   "source": [
    "def get_train_images(num):\n",
    "    return torch.stack([trainset[i][0] for i in range(num)], dim=0)\n",
    "\n",
    "input_imgs = get_train_images(p_num)   \n",
    "w1_imgs = torch.cat([(image + w1.cpu()) for image in input_imgs], dim=0)  #w1carrier\n",
    "AEw1_imgs = AE(w1_imgs.to(device)).cpu()  #经过AE攻击后\n",
    "\n",
    "for i in range(p_num):\n",
    "    save_img(w1_imgs[i], \"./w1/o+/o+\"+str(i)+\".jpg\")\n",
    "    save_img(AEw1_imgs[i], \"./w1/AE+/AE+\"+str(i)+\".jpg\")"
   ]
  },
  {
   "cell_type": "code",
   "execution_count": 18,
   "metadata": {},
   "outputs": [],
   "source": [
    "# cross\n",
    "w3 = torch.zeros(3072)\n",
    "w3 = w3.reshape(3, 32, 32)\n",
    "\n",
    "def mark_cross(img, l=16):\n",
    "    for i in range(l):\n",
    "        img[0][i][i] = 1\n",
    "        img[0][i][l-1-i] = 1\n",
    "        img[1][i][i] = 1\n",
    "        img[1][i][l-1-i] = 1\n",
    "        img[2][i][i] = 1\n",
    "        img[2][i][l-1-i] = 1\n",
    "    return img\n",
    "\n",
    "w3 = mark_cross(w3)\n",
    "  \n",
    "w3_imgs = torch.stack([(image + w3) for image in input_imgs], dim=0)  #w3carrier\n",
    "AEw3_imgs = AE(w3_imgs.to(device)).cpu()  #经过AE攻击后\n",
    "\n",
    "for i in range(p_num):\n",
    "    save_img(w3_imgs[i], \"./w3/o+/o+\"+str(i)+\".jpg\")\n",
    "    save_img(AEw3_imgs[i], \"./w3/AE+/AE+\"+str(i)+\".jpg\")"
   ]
  }
 ],
 "metadata": {
  "interpreter": {
   "hash": "1d3d4bfaa5725f2f7928d8881384166c3028991207aad58717d2b35c1a69baf2"
  },
  "kernelspec": {
   "display_name": "Python 3.7.11 ('torch': conda)",
   "language": "python",
   "name": "python3"
  },
  "language_info": {
   "codemirror_mode": {
    "name": "ipython",
    "version": 3
   },
   "file_extension": ".py",
   "mimetype": "text/x-python",
   "name": "python",
   "nbconvert_exporter": "python",
   "pygments_lexer": "ipython3",
   "version": "3.7.11"
  },
  "orig_nbformat": 4
 },
 "nbformat": 4,
 "nbformat_minor": 2
}
